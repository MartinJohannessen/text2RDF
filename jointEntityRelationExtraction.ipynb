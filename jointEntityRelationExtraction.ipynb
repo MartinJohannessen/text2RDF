{
  "nbformat": 4,
  "nbformat_minor": 0,
  "metadata": {
    "colab": {
      "name": "jointEntityRelationExtraction.ipynb",
      "provenance": [],
      "collapsed_sections": [],
      "toc_visible": true,
      "mount_file_id": "16RawVZNm4IhNABwydHjcrEsj1y0b-Oo7",
      "authorship_tag": "ABX9TyONRD4lNsyh18tFxMACmxgN",
      "include_colab_link": true
    },
    "kernelspec": {
      "name": "python3",
      "display_name": "Python 3"
    },
    "language_info": {
      "name": "python"
    },
    "accelerator": "GPU"
  },
  "cells": [
    {
      "cell_type": "markdown",
      "metadata": {
        "id": "view-in-github",
        "colab_type": "text"
      },
      "source": [
        "<a href=\"https://colab.research.google.com/github/MartinJohannessen/text2RDF/blob/main/jointEntityRelationExtraction.ipynb\" target=\"_parent\"><img src=\"https://colab.research.google.com/assets/colab-badge.svg\" alt=\"Open In Colab\"/></a>"
      ]
    },
    {
      "cell_type": "code",
      "metadata": {
        "colab": {
          "base_uri": "https://localhost:8080/"
        },
        "id": "Zk1krHQlg2zj",
        "outputId": "97c1fefa-414a-49db-8f7c-d45ce600c1b0"
      },
      "source": [
        "!python --version #must be 3.7"
      ],
      "execution_count": 1,
      "outputs": [
        {
          "output_type": "stream",
          "text": [
            "Python 3.7.10\n"
          ],
          "name": "stdout"
        }
      ]
    },
    {
      "cell_type": "code",
      "metadata": {
        "colab": {
          "base_uri": "https://localhost:8080/"
        },
        "id": "DPs6tOTvKWSE",
        "outputId": "fba3fc4e-18c7-428b-e85d-a9c4a2744cee"
      },
      "source": [
        "!nvidia-smi"
      ],
      "execution_count": 2,
      "outputs": [
        {
          "output_type": "stream",
          "text": [
            "Sun Jul 11 17:20:18 2021       \n",
            "+-----------------------------------------------------------------------------+\n",
            "| NVIDIA-SMI 470.42.01    Driver Version: 460.32.03    CUDA Version: 11.2     |\n",
            "|-------------------------------+----------------------+----------------------+\n",
            "| GPU  Name        Persistence-M| Bus-Id        Disp.A | Volatile Uncorr. ECC |\n",
            "| Fan  Temp  Perf  Pwr:Usage/Cap|         Memory-Usage | GPU-Util  Compute M. |\n",
            "|                               |                      |               MIG M. |\n",
            "|===============================+======================+======================|\n",
            "|   0  Tesla V100-SXM2...  Off  | 00000000:00:04.0 Off |                    0 |\n",
            "| N/A   39C    P0    24W / 300W |      0MiB / 16160MiB |      0%      Default |\n",
            "|                               |                      |                  N/A |\n",
            "+-------------------------------+----------------------+----------------------+\n",
            "                                                                               \n",
            "+-----------------------------------------------------------------------------+\n",
            "| Processes:                                                                  |\n",
            "|  GPU   GI   CI        PID   Type   Process name                  GPU Memory |\n",
            "|        ID   ID                                                   Usage      |\n",
            "|=============================================================================|\n",
            "|  No running processes found                                                 |\n",
            "+-----------------------------------------------------------------------------+\n"
          ],
          "name": "stdout"
        }
      ]
    },
    {
      "cell_type": "code",
      "metadata": {
        "colab": {
          "base_uri": "https://localhost:8080/"
        },
        "id": "lC1QYGYhLatG",
        "outputId": "56ea1954-5cb2-4e62-9c97-f98c6b98222b"
      },
      "source": [
        "!pip install transformers==2.6.0\n",
        "!pip install icecream\n",
        "!apt-get install git-lfs\n",
        "!git lfs install\n",
        "!git clone https://huggingface.co/bert-base-cased\n",
        "!git clone https://github.com/MartinJohannessen/SPN4RE.git"
      ],
      "execution_count": 6,
      "outputs": [
        {
          "output_type": "stream",
          "text": [
            "Requirement already satisfied: transformers==2.6.0 in /usr/local/lib/python3.7/dist-packages (2.6.0)\n",
            "Requirement already satisfied: numpy in /usr/local/lib/python3.7/dist-packages (from transformers==2.6.0) (1.19.5)\n",
            "Requirement already satisfied: tqdm>=4.27 in /usr/local/lib/python3.7/dist-packages (from transformers==2.6.0) (4.41.1)\n",
            "Requirement already satisfied: tokenizers==0.5.2 in /usr/local/lib/python3.7/dist-packages (from transformers==2.6.0) (0.5.2)\n",
            "Requirement already satisfied: filelock in /usr/local/lib/python3.7/dist-packages (from transformers==2.6.0) (3.0.12)\n",
            "Requirement already satisfied: regex!=2019.12.17 in /usr/local/lib/python3.7/dist-packages (from transformers==2.6.0) (2019.12.20)\n",
            "Requirement already satisfied: sentencepiece in /usr/local/lib/python3.7/dist-packages (from transformers==2.6.0) (0.1.96)\n",
            "Requirement already satisfied: boto3 in /usr/local/lib/python3.7/dist-packages (from transformers==2.6.0) (1.17.109)\n",
            "Requirement already satisfied: requests in /usr/local/lib/python3.7/dist-packages (from transformers==2.6.0) (2.23.0)\n",
            "Requirement already satisfied: sacremoses in /usr/local/lib/python3.7/dist-packages (from transformers==2.6.0) (0.0.45)\n",
            "Requirement already satisfied: s3transfer<0.5.0,>=0.4.0 in /usr/local/lib/python3.7/dist-packages (from boto3->transformers==2.6.0) (0.4.2)\n",
            "Requirement already satisfied: botocore<1.21.0,>=1.20.109 in /usr/local/lib/python3.7/dist-packages (from boto3->transformers==2.6.0) (1.20.109)\n",
            "Requirement already satisfied: jmespath<1.0.0,>=0.7.1 in /usr/local/lib/python3.7/dist-packages (from boto3->transformers==2.6.0) (0.10.0)\n",
            "Requirement already satisfied: idna<3,>=2.5 in /usr/local/lib/python3.7/dist-packages (from requests->transformers==2.6.0) (2.10)\n",
            "Requirement already satisfied: certifi>=2017.4.17 in /usr/local/lib/python3.7/dist-packages (from requests->transformers==2.6.0) (2021.5.30)\n",
            "Requirement already satisfied: urllib3!=1.25.0,!=1.25.1,<1.26,>=1.21.1 in /usr/local/lib/python3.7/dist-packages (from requests->transformers==2.6.0) (1.24.3)\n",
            "Requirement already satisfied: chardet<4,>=3.0.2 in /usr/local/lib/python3.7/dist-packages (from requests->transformers==2.6.0) (3.0.4)\n",
            "Requirement already satisfied: joblib in /usr/local/lib/python3.7/dist-packages (from sacremoses->transformers==2.6.0) (1.0.1)\n",
            "Requirement already satisfied: six in /usr/local/lib/python3.7/dist-packages (from sacremoses->transformers==2.6.0) (1.15.0)\n",
            "Requirement already satisfied: click in /usr/local/lib/python3.7/dist-packages (from sacremoses->transformers==2.6.0) (7.1.2)\n",
            "Requirement already satisfied: python-dateutil<3.0.0,>=2.1 in /usr/local/lib/python3.7/dist-packages (from botocore<1.21.0,>=1.20.109->boto3->transformers==2.6.0) (2.8.1)\n",
            "Requirement already satisfied: icecream in /usr/local/lib/python3.7/dist-packages (2.1.1)\n",
            "Requirement already satisfied: pygments>=2.2.0 in /usr/local/lib/python3.7/dist-packages (from icecream) (2.6.1)\n",
            "Requirement already satisfied: asttokens>=2.0.1 in /usr/local/lib/python3.7/dist-packages (from icecream) (2.0.5)\n",
            "Requirement already satisfied: executing>=0.3.1 in /usr/local/lib/python3.7/dist-packages (from icecream) (0.7.0)\n",
            "Requirement already satisfied: colorama>=0.3.9 in /usr/local/lib/python3.7/dist-packages (from icecream) (0.4.4)\n",
            "Requirement already satisfied: six in /usr/local/lib/python3.7/dist-packages (from asttokens>=2.0.1->icecream) (1.15.0)\n",
            "Reading package lists... Done\n",
            "Building dependency tree       \n",
            "Reading state information... Done\n",
            "git-lfs is already the newest version (2.3.4-1).\n",
            "0 upgraded, 0 newly installed, 0 to remove and 39 not upgraded.\n",
            "Error: Failed to call git rev-parse --git-dir --show-toplevel: \"fatal: not a git repository (or any of the parent directories): .git\\n\"\n",
            "Git LFS initialized.\n",
            "fatal: destination path 'bert-base-cased' already exists and is not an empty directory.\n",
            "fatal: destination path 'SPN4RE' already exists and is not an empty directory.\n",
            "Drive already mounted at /content/drive; to attempt to forcibly remount, call drive.mount(\"/content/drive\", force_remount=True).\n"
          ],
          "name": "stdout"
        }
      ]
    },
    {
      "cell_type": "code",
      "metadata": {
        "colab": {
          "base_uri": "https://localhost:8080/"
        },
        "id": "-uqaL5vQmMP6",
        "outputId": "0432ae0b-d3f8-4f04-8d3d-5676bdcdcd54"
      },
      "source": [
        "cd /content/SPN4RE"
      ],
      "execution_count": 9,
      "outputs": [
        {
          "output_type": "stream",
          "text": [
            "/content/SPN4RE\n"
          ],
          "name": "stdout"
        }
      ]
    },
    {
      "cell_type": "code",
      "metadata": {
        "id": "JYVMc7A5AJWy"
      },
      "source": [
        "import argparse, os, torch\n",
        "import random\n",
        "import numpy as np\n",
        "from utils.data import build_data\n",
        "from trainer.trainer import Trainer\n",
        "from models.setpred4RE import SetPred4RE\n",
        "\n",
        "from icecream import ic\n",
        "from transformers import BertTokenizer\n",
        "from utils.functions import remove_accents  "
      ],
      "execution_count": 10,
      "outputs": []
    },
    {
      "cell_type": "code",
      "metadata": {
        "id": "u5LHnku4AJtE"
      },
      "source": [
        "def str2bool(v):\n",
        "    return v.lower() in ('true')\n",
        "def add_argument_group(name):\n",
        "    arg = parser.add_argument_group(name)\n",
        "    return arg\n",
        "def get_args():\n",
        "    args, unparsed = parser.parse_known_args()\n",
        "    if len(unparsed) > 1:\n",
        "        print(\"Unparsed args: {}\".format(unparsed))\n",
        "    return args, unparsed\n",
        "def set_seed(seed):\n",
        "    random.seed(seed)\n",
        "    os.environ['PYTHONHASHSEED'] = str(seed)\n",
        "    np.random.seed(seed)\n",
        "    torch.manual_seed(seed)\n",
        "    torch.cuda.manual_seed(seed)\n",
        "    torch.cuda.manual_seed_all(seed)\n",
        "    torch.backends.cudnn.benchmark = False\n",
        "    torch.backends.cudnn.deterministic = True"
      ],
      "execution_count": 11,
      "outputs": []
    },
    {
      "cell_type": "markdown",
      "metadata": {
        "id": "ClP-J2OvK7AD"
      },
      "source": [
        "# Select dataset and change arguments acordingly as instructed in readme.md "
      ]
    },
    {
      "cell_type": "code",
      "metadata": {
        "colab": {
          "base_uri": "https://localhost:8080/"
        },
        "id": "bL71seAfAfZe",
        "outputId": "82bb34c5-5815-46cc-c3f4-cdad472a2406"
      },
      "source": [
        "inference_mode = False\n",
        "\n",
        "from google.colab import drive\n",
        "drive.mount('/content/drive')\n",
        "parser = argparse.ArgumentParser()\n",
        "data_arg = add_argument_group('Data')\n",
        "\n",
        "\n",
        "#data_arg.add_argument('--dataset_name', type=str, default=\"NYT-exact\")\n",
        "#data_arg.add_argument('--train_file', type=str, default=\"./data/NYT/exact_data/train.json\")\n",
        "#data_arg.add_argument('--valid_file', type=str, default=\"./data/NYT/exact_data/valid.json\")\n",
        "#data_arg.add_argument('--test_file', type=str, default=\"./data/NYT/exact_data/test.json\")\n",
        "\n",
        "# data_arg.add_argument('--dataset_name', type=str, default=\"NYT-partial\")\n",
        "# data_arg.add_argument('--train_file', type=str, default=\"./data/NYT/casrel_data/new_train.json\")\n",
        "# data_arg.add_argument('--valid_file', type=str, default=\"./data/NYT/casrel_data/new_valid.json\")\n",
        "# data_arg.add_argument('--test_file', type=str, default=\"./data/NYT/casrel_data/new_test.json\")\n",
        "\n",
        "\n",
        "data_arg.add_argument('--dataset_name', type=str, default=\"WebNLG\")\n",
        "data_arg.add_argument('--train_file', type=str, default=\"./data/WebNLG/clean_WebNLG/new_train.json\")\n",
        "data_arg.add_argument('--valid_file', type=str, default=\"./data/WebNLG/clean_WebNLG/new_valid.json\")\n",
        "data_arg.add_argument('--test_file', type=str, default=\"./data/WebNLG/clean_WebNLG/new_test.json\")\n",
        "\n",
        "data_arg.add_argument('--generated_data_directory', type=str, default=\"/content/drive/MyDrive/a_colab_folder/SPN4RE/WebNLG/\")\n",
        "data_arg.add_argument('--generated_param_directory', type=str, default=\"/content/drive/MyDrive/a_colab_folder/SPN4RE/WebNLG/Model_parameters/\")\n",
        "data_arg.add_argument('--bert_directory', type=str, default=\"/content/bert-base-cased\")\n",
        "data_arg.add_argument(\"--partial\", type=str2bool, default=True)\n",
        "learn_arg = add_argument_group('Learning')\n",
        "learn_arg.add_argument('--model_name', type=str, default=\"SPN4RE\")\n",
        "learn_arg.add_argument('--num_generated_triples', type=int, default=10)\n",
        "learn_arg.add_argument('--num_decoder_layers', type=int, default=4)\n",
        "learn_arg.add_argument('--matcher', type=str, default=\"avg\", choices=['avg', 'min'])\n",
        "learn_arg.add_argument('--na_rel_coef', type=float, default=0.25)\n",
        "learn_arg.add_argument('--rel_loss_weight', type=float, default=1)\n",
        "learn_arg.add_argument('--head_ent_loss_weight', type=float, default=2)\n",
        "learn_arg.add_argument('--tail_ent_loss_weight', type=float, default=2)\n",
        "learn_arg.add_argument('--fix_bert_embeddings', type=str2bool, default=True)\n",
        "learn_arg.add_argument('--batch_size', type=int, default=4)\n",
        "learn_arg.add_argument('--max_epoch', type=int, default=100)\n",
        "learn_arg.add_argument('--gradient_accumulation_steps', type=int, default=1)\n",
        "learn_arg.add_argument('--decoder_lr', type=float, default=0.00005)\n",
        "learn_arg.add_argument('--encoder_lr', type=float, default=0.00002)\n",
        "learn_arg.add_argument('--lr_decay', type=float, default=0.02)\n",
        "learn_arg.add_argument('--weight_decay', type=float, default=0.000001)\n",
        "learn_arg.add_argument('--max_grad_norm', type=float, default=20)\n",
        "learn_arg.add_argument('--optimizer', type=str, default='AdamW', choices=['Adam', 'AdamW'])\n",
        "evaluation_arg = add_argument_group('Evaluation')\n",
        "evaluation_arg.add_argument('--n_best_size', type=int, default=100)\n",
        "evaluation_arg.add_argument('--max_span_length', type=int, default=10) #NYT webNLG 10\n",
        "misc_arg = add_argument_group('MISC')\n",
        "misc_arg.add_argument('--refresh', type=str2bool, default=False)\n",
        "misc_arg.add_argument('--use_gpu', type=str2bool, default=True)\n",
        "misc_arg.add_argument('--visible_gpu', type=int, default=0)\n",
        "misc_arg.add_argument('--random_seed', type=int, default=1)\n",
        "\n",
        "args, unparsed = get_args()\n",
        "os.environ[\"CUDA_VISIBLE_DEVICES\"] = str(args.visible_gpu)\n",
        "for arg in vars(args):\n",
        "    print(arg, \":\",  getattr(args, arg))\n",
        "set_seed(args.random_seed)\n",
        "tokenizer = BertTokenizer.from_pretrained(args.bert_directory, do_lower_case=False)\n",
        "data = build_data(args)\n",
        "model = SetPred4RE(args, data.relational_alphabet.size())\n",
        "if inference_mode == False:\n",
        "    trainer = Trainer(model, data, args)\n",
        "    trainer.train_model()    "
      ],
      "execution_count": null,
      "outputs": [
        {
          "output_type": "stream",
          "text": [
            "Drive already mounted at /content/drive; to attempt to forcibly remount, call drive.mount(\"/content/drive\", force_remount=True).\n",
            "Unparsed args: ['-f', '/root/.local/share/jupyter/runtime/kernel-687b17a7-662e-4c64-8d6e-cdbedfd6c590.json']\n",
            "dataset_name : WebNLG\n",
            "train_file : ./data/WebNLG/clean_WebNLG/new_train.json\n",
            "valid_file : ./data/WebNLG/clean_WebNLG/new_valid.json\n",
            "test_file : ./data/WebNLG/clean_WebNLG/new_test.json\n",
            "generated_data_directory : /content/drive/MyDrive/a_colab_folder/SPN4RE/WebNLG/\n",
            "generated_param_directory : /content/drive/MyDrive/a_colab_folder/SPN4RE/WebNLG/Model_parameters/\n",
            "bert_directory : /content/bert-base-cased\n",
            "partial : True\n",
            "model_name : SPN4RE\n",
            "num_generated_triples : 10\n",
            "num_decoder_layers : 4\n",
            "matcher : avg\n",
            "na_rel_coef : 0.25\n",
            "rel_loss_weight : 1\n",
            "head_ent_loss_weight : 2\n",
            "tail_ent_loss_weight : 2\n",
            "fix_bert_embeddings : True\n",
            "batch_size : 4\n",
            "max_epoch : 100\n",
            "gradient_accumulation_steps : 1\n",
            "decoder_lr : 5e-05\n",
            "encoder_lr : 2e-05\n",
            "lr_decay : 0.02\n",
            "weight_decay : 1e-06\n",
            "max_grad_norm : 20\n",
            "optimizer : AdamW\n",
            "n_best_size : 100\n",
            "max_span_length : 10\n",
            "refresh : False\n",
            "use_gpu : True\n",
            "visible_gpu : 0\n",
            "random_seed : 1\n",
            "DATA SUMMARY START:\n",
            "     Relation Alphabet Size: 171\n",
            "     Train  Instance Number: 5019\n",
            "     Valid  Instance Number: 500\n",
            "     Test   Instance Number: 703\n",
            "DATA SUMMARY END.\n",
            "Data setting is saved to file:  /content/drive/MyDrive/a_colab_folder/SPN4RE/WebNLG/WebNLG_SPN4RE_data.pickle\n",
            "=== Epoch 0 train ===\n",
            "     Instance: 400; loss: 10.3470\n",
            "     Instance: 800; loss: 8.3248\n",
            "     Instance: 1200; loss: 7.2506\n",
            "     Instance: 1600; loss: 6.4891\n",
            "     Instance: 2000; loss: 5.8813\n",
            "     Instance: 2400; loss: 5.4169\n",
            "     Instance: 2800; loss: 5.0000\n",
            "     Instance: 3200; loss: 4.6774\n",
            "     Instance: 3600; loss: 4.4286\n",
            "     Instance: 4000; loss: 4.2063\n",
            "     Instance: 4400; loss: 4.0068\n",
            "     Instance: 4800; loss: 3.8276\n",
            "=== Epoch 0 Test ===\n",
            "--*--*--Num of Gold Triplet is 1--*--*--\n",
            "gold_num =  266  pred_num =  355  right_num =  164  relation_right_num =  175  entity_right_num =  241\n",
            "precision =  0.4619718309859155  recall =  0.6165413533834586  f1_value =  0.5281803542673108\n",
            "rel_precision =  0.49295774647887325  rel_recall =  0.6578947368421053  rel_f1_value =  0.5636070853462158\n",
            "ent_precision =  0.6788732394366197  ent_recall =  0.9060150375939849  ent_f1_value =  0.7761674718196457\n",
            "--*--*--Num of Gold Triplet is 2--*--*--\n",
            "gold_num =  342  pred_num =  408  right_num =  243  relation_right_num =  290  entity_right_num =  314\n",
            "precision =  0.5955882352941176  recall =  0.7105263157894737  f1_value =  0.648\n",
            "rel_precision =  0.7107843137254902  rel_recall =  0.847953216374269  rel_f1_value =  0.7733333333333333\n",
            "ent_precision =  0.7696078431372549  ent_recall =  0.9181286549707602  ent_f1_value =  0.8373333333333334\n",
            "--*--*--Num of Gold Triplet is 3--*--*--\n",
            "gold_num =  393  pred_num =  419  right_num =  275  relation_right_num =  331  entity_right_num =  344\n",
            "precision =  0.6563245823389021  recall =  0.6997455470737913  f1_value =  0.6773399014778325\n",
            "rel_precision =  0.7899761336515513  rel_recall =  0.8422391857506362  rel_f1_value =  0.8152709359605912\n",
            "ent_precision =  0.8210023866348448  ent_recall =  0.8753180661577609  ent_f1_value =  0.8472906403940887\n",
            "--*--*--Num of Gold Triplet is 4--*--*--\n",
            "gold_num =  360  pred_num =  345  right_num =  231  relation_right_num =  291  entity_right_num =  280\n",
            "precision =  0.6695652173913044  recall =  0.6416666666666667  f1_value =  0.6553191489361703\n",
            "rel_precision =  0.8434782608695652  rel_recall =  0.8083333333333333  rel_f1_value =  0.8255319148936171\n",
            "ent_precision =  0.8115942028985508  ent_recall =  0.7777777777777778  ent_f1_value =  0.7943262411347518\n",
            "--*--*--Num of Gold Triplet is greater than or equal to 5--*--*--\n",
            "gold_num =  230  pred_num =  194  right_num =  109  relation_right_num =  155  entity_right_num =  144\n",
            "precision =  0.5618556701030928  recall =  0.47391304347826085  f1_value =  0.5141509433962265\n",
            "rel_precision =  0.7989690721649485  rel_recall =  0.6739130434782609  rel_f1_value =  0.731132075471698\n",
            "ent_precision =  0.7422680412371134  ent_recall =  0.6260869565217392  ent_f1_value =  0.6792452830188681\n",
            "--*--*--Normal Triplets--*--*--\n",
            "gold_num =  246  pred_num =  342  right_num =  156  relation_right_num =  167  entity_right_num =  228\n",
            "precision =  0.45614035087719296  recall =  0.6341463414634146  f1_value =  0.5306122448979592\n",
            "rel_precision =  0.48830409356725146  rel_recall =  0.6788617886178862  rel_f1_value =  0.5680272108843537\n",
            "ent_precision =  0.6666666666666666  ent_recall =  0.926829268292683  ent_f1_value =  0.7755102040816327\n",
            "--*--*--Multiply label Triplets--*--*--\n",
            "gold_num =  98  pred_num =  85  right_num =  55  relation_right_num =  68  entity_right_num =  67\n",
            "precision =  0.6470588235294118  recall =  0.5612244897959183  f1_value =  0.6010928961748634\n",
            "rel_precision =  0.8  rel_recall =  0.6938775510204082  rel_f1_value =  0.7431693989071038\n",
            "ent_precision =  0.788235294117647  ent_recall =  0.6836734693877551  ent_f1_value =  0.73224043715847\n",
            "--*--*--Overlapping Triplets--*--*--\n",
            "gold_num =  1345  pred_num =  1379  right_num =  866  relation_right_num =  1075  entity_right_num =  1095\n",
            "precision =  0.6279912980420594  recall =  0.6438661710037175  f1_value =  0.6358296622613803\n",
            "rel_precision =  0.779550398839739  rel_recall =  0.7992565055762082  rel_f1_value =  0.78928046989721\n",
            "ent_precision =  0.7940536620739667  ent_recall =  0.8141263940520446  ent_f1_value =  0.803964757709251\n",
            "gold_num =  1591  pred_num =  1721  right_num =  1022  relation_right_num =  1242  entity_right_num =  1323\n",
            "precision =  0.5938407902382336  recall =  0.6423632935260842  f1_value =  0.6171497584541062\n",
            "rel_precision =  0.7216734456711215  rel_recall =  0.7806411062225016  rel_f1_value =  0.7500000000000001\n",
            "ent_precision =  0.768739105171412  ent_recall =  0.8315524827152734  ent_f1_value =  0.7989130434782609\n",
            "Achieving Best Result on Test Set.\n",
            "=== Epoch 1 train ===\n",
            "     Instance: 400; loss: 1.5210\n",
            "     Instance: 800; loss: 1.4256\n",
            "     Instance: 1200; loss: 1.4184\n",
            "     Instance: 1600; loss: 1.3887\n",
            "     Instance: 2000; loss: 1.3735\n",
            "     Instance: 2400; loss: 1.3373\n",
            "     Instance: 2800; loss: 1.3123\n",
            "     Instance: 3200; loss: 1.2849\n",
            "     Instance: 3600; loss: 1.2450\n",
            "     Instance: 4000; loss: 1.2318\n",
            "     Instance: 4400; loss: 1.2192\n",
            "     Instance: 4800; loss: 1.2016\n",
            "=== Epoch 1 Test ===\n",
            "--*--*--Num of Gold Triplet is 1--*--*--\n",
            "gold_num =  266  pred_num =  359  right_num =  199  relation_right_num =  219  entity_right_num =  259\n",
            "precision =  0.5543175487465181  recall =  0.7481203007518797  f1_value =  0.6368\n",
            "rel_precision =  0.6100278551532033  rel_recall =  0.8233082706766918  rel_f1_value =  0.7008000000000001\n",
            "ent_precision =  0.7214484679665738  ent_recall =  0.9736842105263158  ent_f1_value =  0.8288000000000001\n",
            "--*--*--Num of Gold Triplet is 2--*--*--\n",
            "gold_num =  342  pred_num =  421  right_num =  284  relation_right_num =  312  entity_right_num =  342\n",
            "precision =  0.6745843230403801  recall =  0.8304093567251462  f1_value =  0.7444298820445608\n",
            "rel_precision =  0.7410926365795725  rel_recall =  0.9122807017543859  rel_f1_value =  0.817824377457405\n",
            "ent_precision =  0.8123515439429929  ent_recall =  1.0  ent_f1_value =  0.8964613368283093\n",
            "--*--*--Num of Gold Triplet is 3--*--*--\n",
            "gold_num =  393  pred_num =  449  right_num =  333  relation_right_num =  374  entity_right_num =  388\n",
            "precision =  0.7416481069042317  recall =  0.8473282442748091  f1_value =  0.7909738717339668\n",
            "rel_precision =  0.8329621380846325  rel_recall =  0.9516539440203562  rel_f1_value =  0.8883610451306412\n",
            "ent_precision =  0.8641425389755011  ent_recall =  0.9872773536895675  ent_f1_value =  0.9216152019002376\n",
            "--*--*--Num of Gold Triplet is 4--*--*--\n",
            "gold_num =  360  pred_num =  369  right_num =  279  relation_right_num =  321  entity_right_num =  325\n",
            "precision =  0.7560975609756098  recall =  0.775  f1_value =  0.7654320987654322\n",
            "rel_precision =  0.8699186991869918  rel_recall =  0.8916666666666667  rel_f1_value =  0.8806584362139918\n",
            "ent_precision =  0.8807588075880759  ent_recall =  0.9027777777777778  ent_f1_value =  0.8916323731138545\n",
            "--*--*--Num of Gold Triplet is greater than or equal to 5--*--*--\n",
            "gold_num =  230  pred_num =  235  right_num =  160  relation_right_num =  203  entity_right_num =  187\n",
            "precision =  0.6808510638297872  recall =  0.6956521739130435  f1_value =  0.6881720430107526\n",
            "rel_precision =  0.8638297872340426  rel_recall =  0.8826086956521739  rel_f1_value =  0.8731182795698925\n",
            "ent_precision =  0.7957446808510639  ent_recall =  0.8130434782608695  ent_f1_value =  0.8043010752688171\n",
            "--*--*--Normal Triplets--*--*--\n",
            "gold_num =  246  pred_num =  340  right_num =  187  relation_right_num =  206  entity_right_num =  241\n",
            "precision =  0.55  recall =  0.7601626016260162  f1_value =  0.6382252559726963\n",
            "rel_precision =  0.6058823529411764  rel_recall =  0.8373983739837398  rel_f1_value =  0.7030716723549487\n",
            "ent_precision =  0.7088235294117647  ent_recall =  0.9796747967479674  ent_f1_value =  0.8225255972696246\n",
            "--*--*--Multiply label Triplets--*--*--\n",
            "gold_num =  98  pred_num =  102  right_num =  75  relation_right_num =  81  entity_right_num =  87\n",
            "precision =  0.7352941176470589  recall =  0.7653061224489796  f1_value =  0.75\n",
            "rel_precision =  0.7941176470588235  rel_recall =  0.826530612244898  rel_f1_value =  0.8099999999999999\n",
            "ent_precision =  0.8529411764705882  ent_recall =  0.8877551020408163  ent_f1_value =  0.87\n",
            "--*--*--Overlapping Triplets--*--*--\n",
            "gold_num =  1345  pred_num =  1493  right_num =  1068  relation_right_num =  1223  entity_right_num =  1260\n",
            "precision =  0.7153382451440053  recall =  0.7940520446096654  f1_value =  0.7526427061310782\n",
            "rel_precision =  0.8191560616208975  rel_recall =  0.9092936802973978  rel_f1_value =  0.8618745595489782\n",
            "ent_precision =  0.8439383791024783  ent_recall =  0.9368029739776952  ent_f1_value =  0.8879492600422834\n",
            "gold_num =  1591  pred_num =  1833  right_num =  1255  relation_right_num =  1429  entity_right_num =  1501\n",
            "precision =  0.6846699399890889  recall =  0.7888120678818353  f1_value =  0.7330607476635514\n",
            "rel_precision =  0.7795962902345881  rel_recall =  0.8981772470144563  rel_f1_value =  0.834696261682243\n",
            "ent_precision =  0.8188761593016912  ent_recall =  0.9434318038969202  ent_f1_value =  0.8767523364485982\n",
            "Achieving Best Result on Test Set.\n",
            "=== Epoch 2 train ===\n",
            "     Instance: 400; loss: 0.8457\n",
            "     Instance: 800; loss: 0.7751\n",
            "     Instance: 1200; loss: 0.7562\n",
            "     Instance: 1600; loss: 0.7378\n",
            "     Instance: 2000; loss: 0.7212\n",
            "     Instance: 2400; loss: 0.7127\n",
            "     Instance: 2800; loss: 0.7113\n",
            "     Instance: 3200; loss: 0.7127\n",
            "     Instance: 3600; loss: 0.7158\n",
            "     Instance: 4000; loss: 0.7104\n",
            "     Instance: 4400; loss: 0.7044\n",
            "     Instance: 4800; loss: 0.6986\n",
            "=== Epoch 2 Test ===\n"
          ],
          "name": "stdout"
        }
      ]
    },
    {
      "cell_type": "code",
      "metadata": {
        "id": "XcBwNmYoarSf"
      },
      "source": [
        "def process_data_for_inference(input_doc):\n",
        "    sent_list = []\n",
        "    lines = input_doc.splitlines()\n",
        "    for i in range(len(lines)):\n",
        "        token_sent = [tokenizer.cls_token] + tokenizer.tokenize(remove_accents(lines[i])) + [tokenizer.sep_token]\n",
        "        sent_id = tokenizer.convert_tokens_to_ids(token_sent)\n",
        "        sent_list.append([i, sent_id])\n",
        "\n",
        "    sent_size = len(sent_list)\n",
        "    sent_idx = [ele[0] for ele in sent_list]\n",
        "    sent_ids = [ele[1] for ele in sent_list]\n",
        "    sent_lens = list(map(len, sent_ids))\n",
        "    max_sent_len = max(sent_lens)\n",
        "    input_ids = torch.zeros((sent_size, max_sent_len), requires_grad=False).long()\n",
        "    attention_mask = torch.zeros((sent_size, max_sent_len), requires_grad=False, dtype=torch.float32)\n",
        "    for idx, (seq, seqlen) in enumerate(zip(sent_ids, sent_lens)):\n",
        "        input_ids[idx, :seqlen] = torch.LongTensor(seq)\n",
        "        attention_mask[idx, :seqlen] = torch.FloatTensor([1] * seqlen)\n",
        "    if args.use_gpu:\n",
        "        input_ids = input_ids.cuda()\n",
        "        attention_mask = attention_mask.cuda()\n",
        "    info = {\"seq_len\": sent_lens, \"sent_idx\": sent_idx}\n",
        "    return input_ids, attention_mask, info"
      ],
      "execution_count": 17,
      "outputs": []
    },
    {
      "cell_type": "code",
      "metadata": {
        "id": "8Boe8FfnLfl6"
      },
      "source": [
        "def gen_triples(self, input_ids, attention_mask, info):\n",
        "    with torch.no_grad():\n",
        "        outputs = self.forward(input_ids, attention_mask)\n",
        "        pred_triple = generate_triple(outputs, info, self.args, self.num_classes)\n",
        "    return pred_triple"
      ],
      "execution_count": 18,
      "outputs": []
    },
    {
      "cell_type": "code",
      "metadata": {
        "id": "CEDJdwG8JMMQ"
      },
      "source": [
        "def resolve_triples(unresolved_triples):\n",
        "  resolved_triples = []\n",
        "  for line in unresolved_triples:\n",
        "    for pred in unresolved_triples[line]:\n",
        "      relation = data.relational_alphabet.get_instance(pred.pred_rel)\n",
        "      head = tokenizer.decode(input_ids[line][pred.head_start_index:pred.head_end_index+1])\n",
        "      tail = tokenizer.decode(input_ids[line][pred.tail_start_index:pred.tail_end_index+1])\n",
        "      resolved_triples.append([relation, head, tail])\n",
        "  return resolved_triples"
      ],
      "execution_count": 19,
      "outputs": []
    },
    {
      "cell_type": "code",
      "metadata": {
        "id": "UxzQa6ubl0jl"
      },
      "source": [
        "input_doc = (\"Oslo is in Norway and Stockholm is in Sweden\\n\"\n",
        "            \"but is the capital city of Denmark Reykjavik or Copenhagen?\")"
      ],
      "execution_count": 20,
      "outputs": []
    },
    {
      "cell_type": "code",
      "metadata": {
        "colab": {
          "base_uri": "https://localhost:8080/"
        },
        "id": "L21MUO2Cp0QS",
        "outputId": "4659c11a-d0f8-4b03-b587-b812ba342802"
      },
      "source": [
        "#inference=True\n",
        "#%run -i main.py --bert_directory /content/bert-base-cased --model_name SPN4RE --generated_param_directory /content/drive/MyDrive/a_colab_folder/SPN4RE/model_param --generated_data_directory /content/drive/MyDrive/a_colab_folder/SPN4RE --visible_gpu  0 --num_generated_triples 15 --max_grad_norm 2.5 --na_rel_coef 0.25 --max_epoch 100 --max_span_length 10\n",
        "#PATH = '/content/drive/MyDrive/a_colab_folder/SPN4RE/model_param SPN4RE_NYT-exact_epoch_91_f1_0.9224.model'"
      ],
      "execution_count": 24,
      "outputs": [
        {
          "output_type": "stream",
          "text": [
            "dataset_name : NYT-exact\n",
            "train_file : ./data/NYT/exact_data/train.json\n",
            "valid_file : ./data/NYT/exact_data/valid.json\n",
            "test_file : ./data/NYT/exact_data/test.json\n",
            "generated_data_directory : /content/drive/MyDrive/a_colab_folder/SPN4RE\n",
            "generated_param_directory : /content/drive/MyDrive/a_colab_folder/SPN4RE/model_param\n",
            "bert_directory : /content/bert-base-cased\n",
            "partial : False\n",
            "model_name : SPN4RE\n",
            "num_generated_triples : 15\n",
            "num_decoder_layers : 3\n",
            "matcher : avg\n",
            "na_rel_coef : 0.25\n",
            "rel_loss_weight : 1\n",
            "head_ent_loss_weight : 2\n",
            "tail_ent_loss_weight : 2\n",
            "fix_bert_embeddings : True\n",
            "batch_size : 8\n",
            "max_epoch : 100\n",
            "gradient_accumulation_steps : 1\n",
            "decoder_lr : 2e-05\n",
            "encoder_lr : 1e-05\n",
            "lr_decay : 0.01\n",
            "weight_decay : 1e-05\n",
            "max_grad_norm : 2.5\n",
            "optimizer : AdamW\n",
            "n_best_size : 100\n",
            "max_span_length : 10\n",
            "refresh : False\n",
            "use_gpu : True\n",
            "visible_gpu : 0\n",
            "random_seed : 1\n",
            "Data setting is loaded from file:  /content/drive/MyDrive/a_colab_folder/SPN4RENYT-exact_SPN4RE_data.pickle\n",
            "DATA SUMMARY START:\n",
            "     Relation Alphabet Size: 24\n",
            "     Train  Instance Number: 56196\n",
            "     Valid  Instance Number: 5000\n",
            "     Test   Instance Number: 5000\n",
            "DATA SUMMARY END.\n"
          ],
          "name": "stdout"
        }
      ]
    },
    {
      "cell_type": "code",
      "metadata": {
        "id": "p__I4PQZm0dU",
        "colab": {
          "base_uri": "https://localhost:8080/"
        },
        "outputId": "5e34b7f3-2f1a-4a0f-d68e-87d6b18cf77a"
      },
      "source": [
        "model.load_state_dict(torch.load(PATH)['state_dict'])\n",
        "model.eval()\n",
        "model.cuda()\n",
        "\n",
        "input_ids, attention_mask, info = process_data_for_inference(input_doc)\n",
        "unresolved_triples = model.gen_triples(input_ids, attention_mask, info)\n",
        "ic(unresolved_triples)\n",
        "resolved_triples = resolve_triples(unresolved_triples)\n",
        "ic(resolved_triples)"
      ],
      "execution_count": 25,
      "outputs": [
        {
          "output_type": "stream",
          "text": [
            "ic| unresolved_triples: {0: [Pred_Triple(pred_rel=0, rel_prob=0.9999947547912598, head_start_index=4, head_end_index=4, head_start_prob=1.0, head_end_prob=1.0, tail_start_index=1, tail_end_index=1, tail_start_prob=1.0, tail_end_prob=1.0),\n",
            "                             Pred_Triple(pred_rel=0, rel_prob=0.9990853071212769, head_start_index=9, head_end_index=9, head_start_prob=1.0, head_end_prob=1.0, tail_start_index=6, tail_end_index=6, tail_start_prob=1.0, tail_end_prob=0.9999997615814209),\n",
            "                             Pred_Triple(pred_rel=5, rel_prob=0.999998927116394, head_start_index=4, head_end_index=4, head_start_prob=1.0, head_end_prob=1.0, tail_start_index=1, tail_end_index=1, tail_start_prob=1.0, tail_end_prob=1.0),\n",
            "                             Pred_Triple(pred_rel=9, rel_prob=0.9999951124191284, head_start_index=4, head_end_index=4, head_start_prob=1.0, head_end_prob=1.0, tail_start_index=1, tail_end_index=1, tail_start_prob=1.0, tail_end_prob=1.0),\n",
            "                             Pred_Triple(pred_rel=4, rel_prob=0.9999974966049194, head_start_index=1, head_end_index=1, head_start_prob=1.0, head_end_prob=1.0, tail_start_index=4, tail_end_index=4, tail_start_prob=1.0, tail_end_prob=1.0),\n",
            "                             Pred_Triple(pred_rel=9, rel_prob=0.999910831451416, head_start_index=9, head_end_index=9, head_start_prob=1.0, head_end_prob=1.0, tail_start_index=6, tail_end_index=6, tail_start_prob=1.0, tail_end_prob=1.0)],\n",
            "                         1: [Pred_Triple(pred_rel=0, rel_prob=0.9999912977218628, head_start_index=7, head_end_index=7, head_start_prob=1.0, head_end_prob=1.0, tail_start_index=13, tail_end_index=13, tail_start_prob=1.0, tail_end_prob=1.0),\n",
            "                             Pred_Triple(pred_rel=0, rel_prob=0.9871127009391785, head_start_index=7, head_end_index=7, head_start_prob=0.9999376535415649, head_end_prob=0.9997513890266418, tail_start_index=8, tail_end_index=11, tail_start_prob=1.0, tail_end_prob=1.0),\n",
            "                             Pred_Triple(pred_rel=5, rel_prob=0.9999995231628418, head_start_index=7, head_end_index=7, head_start_prob=1.0, head_end_prob=1.0, tail_start_index=13, tail_end_index=13, tail_start_prob=1.0, tail_end_prob=1.0),\n",
            "                             Pred_Triple(pred_rel=9, rel_prob=0.9999983310699463, head_start_index=7, head_end_index=7, head_start_prob=1.0, head_end_prob=1.0, tail_start_index=13, tail_end_index=13, tail_start_prob=1.0, tail_end_prob=1.0),\n",
            "                             Pred_Triple(pred_rel=4, rel_prob=0.999997615814209, head_start_index=13, head_end_index=13, head_start_prob=1.0, head_end_prob=1.0, tail_start_index=7, tail_end_index=7, tail_start_prob=1.0, tail_end_prob=1.0)]}\n",
            "ic| resolved_triples: [['/location/location/contains', 'Norway', 'Oslo'],\n",
            "                       ['/location/location/contains', 'Sweden', 'Stockholm'],\n",
            "                       ['/location/country/administrative_divisions', 'Norway', 'Oslo'],\n",
            "                       ['/location/country/capital', 'Norway', 'Oslo'],\n",
            "                       ['/location/administrative_division/country', 'Oslo', 'Norway'],\n",
            "                       ['/location/country/capital', 'Sweden', 'Stockholm'],\n",
            "                       ['/location/location/contains', 'Denmark', 'Copenhagen'],\n",
            "                       ['/location/location/contains', 'Denmark', 'Reykjavik'],\n",
            "                       ['/location/country/administrative_divisions', 'Denmark', 'Copenhagen'],\n",
            "                       ['/location/country/capital', 'Denmark', 'Copenhagen'],\n",
            "                       ['/location/administrative_division/country', 'Copenhagen', 'Denmark']]\n"
          ],
          "name": "stderr"
        },
        {
          "output_type": "execute_result",
          "data": {
            "text/plain": [
              "[['/location/location/contains', 'Norway', 'Oslo'],\n",
              " ['/location/location/contains', 'Sweden', 'Stockholm'],\n",
              " ['/location/country/administrative_divisions', 'Norway', 'Oslo'],\n",
              " ['/location/country/capital', 'Norway', 'Oslo'],\n",
              " ['/location/administrative_division/country', 'Oslo', 'Norway'],\n",
              " ['/location/country/capital', 'Sweden', 'Stockholm'],\n",
              " ['/location/location/contains', 'Denmark', 'Copenhagen'],\n",
              " ['/location/location/contains', 'Denmark', 'Reykjavik'],\n",
              " ['/location/country/administrative_divisions', 'Denmark', 'Copenhagen'],\n",
              " ['/location/country/capital', 'Denmark', 'Copenhagen'],\n",
              " ['/location/administrative_division/country', 'Copenhagen', 'Denmark']]"
            ]
          },
          "metadata": {
            "tags": []
          },
          "execution_count": 25
        }
      ]
    },
    {
      "cell_type": "code",
      "metadata": {
        "id": "6H9OtzrKEOtX",
        "colab": {
          "base_uri": "https://localhost:8080/"
        },
        "outputId": "cf14881b-2395-4491-a42c-83174adcc7dc"
      },
      "source": [
        ""
      ],
      "execution_count": null,
      "outputs": [
        {
          "output_type": "execute_result",
          "data": {
            "text/plain": [
              "tensor([  101,  1133,  1110,  1103,  2364,  1331,  1104,  5140, 12952,  1377,\n",
              "         3174, 13160,  1137,  9409,   136,   102], device='cuda:0')"
            ]
          },
          "metadata": {
            "tags": []
          },
          "execution_count": 165
        }
      ]
    },
    {
      "cell_type": "code",
      "metadata": {
        "colab": {
          "base_uri": "https://localhost:8080/",
          "height": 69
        },
        "id": "iB4k_gMJR1u3",
        "outputId": "180198ea-9ac8-484a-f03e-26c9024f5273"
      },
      "source": [
        ""
      ],
      "execution_count": null,
      "outputs": [
        {
          "output_type": "stream",
          "text": [
            "ic| tokenizer.decode(input_ids[line][pred.head_start_index:pred.head_end_index]): ''\n",
            "ic| tokenizer.decode(input_ids[line][pred.tail_start_index:pred.tail_end_index]): ''\n"
          ],
          "name": "stderr"
        },
        {
          "output_type": "execute_result",
          "data": {
            "application/vnd.google.colaboratory.intrinsic+json": {
              "type": "string"
            },
            "text/plain": [
              "''"
            ]
          },
          "metadata": {
            "tags": []
          },
          "execution_count": 164
        }
      ]
    },
    {
      "cell_type": "code",
      "metadata": {
        "colab": {
          "base_uri": "https://localhost:8080/"
        },
        "id": "Y1bemiMNo3hp",
        "outputId": "dc09f810-8d1c-4046-99e2-a090da41d54c"
      },
      "source": [
        "\n"
      ],
      "execution_count": null,
      "outputs": [
        {
          "output_type": "stream",
          "text": [
            "ic| resolved_triples: [['/location/location/contains', 'Norway', 'Oslo'],\n",
            "                       ['/location/location/contains', 'Sweden', 'Stockholm'],\n",
            "                       ['/location/country/administrative_divisions', 'Norway', 'Oslo'],\n",
            "                       ['/location/country/capital', 'Norway', 'Oslo'],\n",
            "                       ['/location/administrative_division/country', 'Oslo', 'Norway'],\n",
            "                       ['/location/country/capital', 'Sweden', 'Stockholm'],\n",
            "                       ['/location/location/contains', 'Denmark', 'Copenhagen'],\n",
            "                       ['/location/location/contains', 'Denmark', 'Reykjavik'],\n",
            "                       ['/location/country/administrative_divisions', 'Denmark', 'Copenhagen'],\n",
            "                       ['/location/country/capital', 'Denmark', 'Copenhagen'],\n",
            "                       ['/location/administrative_division/country', 'Copenhagen', 'Denmark']]\n"
          ],
          "name": "stderr"
        },
        {
          "output_type": "execute_result",
          "data": {
            "text/plain": [
              "[['/location/location/contains', 'Norway', 'Oslo'],\n",
              " ['/location/location/contains', 'Sweden', 'Stockholm'],\n",
              " ['/location/country/administrative_divisions', 'Norway', 'Oslo'],\n",
              " ['/location/country/capital', 'Norway', 'Oslo'],\n",
              " ['/location/administrative_division/country', 'Oslo', 'Norway'],\n",
              " ['/location/country/capital', 'Sweden', 'Stockholm'],\n",
              " ['/location/location/contains', 'Denmark', 'Copenhagen'],\n",
              " ['/location/location/contains', 'Denmark', 'Reykjavik'],\n",
              " ['/location/country/administrative_divisions', 'Denmark', 'Copenhagen'],\n",
              " ['/location/country/capital', 'Denmark', 'Copenhagen'],\n",
              " ['/location/administrative_division/country', 'Copenhagen', 'Denmark']]"
            ]
          },
          "metadata": {
            "tags": []
          },
          "execution_count": 180
        }
      ]
    },
    {
      "cell_type": "code",
      "metadata": {
        "id": "wOaokDAE8v0O"
      },
      "source": [
        ""
      ],
      "execution_count": null,
      "outputs": []
    },
    {
      "cell_type": "code",
      "metadata": {
        "id": "GtlbpPlW9axn"
      },
      "source": [
        ""
      ],
      "execution_count": null,
      "outputs": []
    }
  ]
}